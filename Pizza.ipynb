{
 "cells": [
  {
   "cell_type": "code",
   "execution_count": 19,
   "metadata": {},
   "outputs": [],
   "source": [
    "import pandas as pd\n",
    "import statsmodels.api as sm\n",
    "import statsmodels.formula.api as smf\n",
    "import numpy as np\n",
    "from sklearn.metrics import confusion_matrix, classification_report\n",
    "import warnings\n",
    "warnings.filterwarnings('ignore')\n",
    "import matplotlib.pyplot as plt\n",
    "import seaborn as sns"
   ]
  },
  {
   "cell_type": "code",
   "execution_count": 20,
   "metadata": {},
   "outputs": [],
   "source": [
    "data_2015_16 = pd.read_csv(\"8358_1.csv\")\n",
    "data_2017_18 = pd.read_csv(\"Datafiniti_Pizza_Restaurants_and_the_Pizza_They_Sell_May19.csv\")"
   ]
  },
  {
   "cell_type": "code",
   "execution_count": 21,
   "metadata": {},
   "outputs": [
    {
     "data": {
      "text/html": [
       "<div>\n",
       "<style scoped>\n",
       "    .dataframe tbody tr th:only-of-type {\n",
       "        vertical-align: middle;\n",
       "    }\n",
       "\n",
       "    .dataframe tbody tr th {\n",
       "        vertical-align: top;\n",
       "    }\n",
       "\n",
       "    .dataframe thead th {\n",
       "        text-align: right;\n",
       "    }\n",
       "</style>\n",
       "<table border=\"1\" class=\"dataframe\">\n",
       "  <thead>\n",
       "    <tr style=\"text-align: right;\">\n",
       "      <th></th>\n",
       "      <th>id</th>\n",
       "      <th>address</th>\n",
       "      <th>categories</th>\n",
       "      <th>city</th>\n",
       "      <th>country</th>\n",
       "      <th>keys</th>\n",
       "      <th>latitude</th>\n",
       "      <th>longitude</th>\n",
       "      <th>menuPageURL</th>\n",
       "      <th>menus.amountMax</th>\n",
       "      <th>...</th>\n",
       "      <th>menus.currency</th>\n",
       "      <th>menus.dateSeen</th>\n",
       "      <th>menus.description</th>\n",
       "      <th>menus.name</th>\n",
       "      <th>name</th>\n",
       "      <th>postalCode</th>\n",
       "      <th>priceRangeCurrency</th>\n",
       "      <th>priceRangeMin</th>\n",
       "      <th>priceRangeMax</th>\n",
       "      <th>province</th>\n",
       "    </tr>\n",
       "  </thead>\n",
       "  <tbody>\n",
       "    <tr>\n",
       "      <th>0</th>\n",
       "      <td>AVwc_6KEIN2L1WUfrKAH</td>\n",
       "      <td>Cascade Village Mall Across From Target</td>\n",
       "      <td>Pizza Place</td>\n",
       "      <td>Bend</td>\n",
       "      <td>US</td>\n",
       "      <td>us/or/bend/cascadevillagemallacrossfromtarget/...</td>\n",
       "      <td>44.102665</td>\n",
       "      <td>-121.300797</td>\n",
       "      <td>NaN</td>\n",
       "      <td>22.50</td>\n",
       "      <td>...</td>\n",
       "      <td>USD</td>\n",
       "      <td>2016-03-31T02:19:42Z</td>\n",
       "      <td>NaN</td>\n",
       "      <td>Bianca Pizza</td>\n",
       "      <td>Little Pizza Paradise</td>\n",
       "      <td>97701</td>\n",
       "      <td>NaN</td>\n",
       "      <td>NaN</td>\n",
       "      <td>NaN</td>\n",
       "      <td>OR</td>\n",
       "    </tr>\n",
       "    <tr>\n",
       "      <th>1</th>\n",
       "      <td>AVwc_6KEIN2L1WUfrKAH</td>\n",
       "      <td>Cascade Village Mall Across From Target</td>\n",
       "      <td>Pizza Place</td>\n",
       "      <td>Bend</td>\n",
       "      <td>US</td>\n",
       "      <td>us/or/bend/cascadevillagemallacrossfromtarget/...</td>\n",
       "      <td>44.102665</td>\n",
       "      <td>-121.300797</td>\n",
       "      <td>NaN</td>\n",
       "      <td>18.95</td>\n",
       "      <td>...</td>\n",
       "      <td>USD</td>\n",
       "      <td>2016-03-31T02:19:42Z</td>\n",
       "      <td>NaN</td>\n",
       "      <td>Cheese Pizza</td>\n",
       "      <td>Little Pizza Paradise</td>\n",
       "      <td>97701</td>\n",
       "      <td>NaN</td>\n",
       "      <td>NaN</td>\n",
       "      <td>NaN</td>\n",
       "      <td>OR</td>\n",
       "    </tr>\n",
       "    <tr>\n",
       "      <th>2</th>\n",
       "      <td>AVwc_6qRByjofQCxkcxw</td>\n",
       "      <td>148 S Barrington Ave</td>\n",
       "      <td>American Restaurant,Bar,Bakery</td>\n",
       "      <td>Los Angeles</td>\n",
       "      <td>US</td>\n",
       "      <td>us/brentwood/losangeles/148sbarringtonave/-151...</td>\n",
       "      <td>34.064563</td>\n",
       "      <td>-118.469017</td>\n",
       "      <td>NaN</td>\n",
       "      <td>12.00</td>\n",
       "      <td>...</td>\n",
       "      <td>USD</td>\n",
       "      <td>2015-10-23T03:57:26Z</td>\n",
       "      <td>NaN</td>\n",
       "      <td>Pizza, Margherita</td>\n",
       "      <td>The Brentwood</td>\n",
       "      <td>90049</td>\n",
       "      <td>USD</td>\n",
       "      <td>50.0</td>\n",
       "      <td>55.0</td>\n",
       "      <td>Brentwood</td>\n",
       "    </tr>\n",
       "    <tr>\n",
       "      <th>3</th>\n",
       "      <td>AVwc_6qRByjofQCxkcxw</td>\n",
       "      <td>148 S Barrington Ave</td>\n",
       "      <td>American Restaurant,Bar,Bakery</td>\n",
       "      <td>Los Angeles</td>\n",
       "      <td>US</td>\n",
       "      <td>us/brentwood/losangeles/148sbarringtonave/-151...</td>\n",
       "      <td>34.064563</td>\n",
       "      <td>-118.469017</td>\n",
       "      <td>NaN</td>\n",
       "      <td>13.00</td>\n",
       "      <td>...</td>\n",
       "      <td>USD</td>\n",
       "      <td>2015-10-23T03:57:26Z</td>\n",
       "      <td>NaN</td>\n",
       "      <td>Pizza, Mushroom</td>\n",
       "      <td>The Brentwood</td>\n",
       "      <td>90049</td>\n",
       "      <td>USD</td>\n",
       "      <td>50.0</td>\n",
       "      <td>55.0</td>\n",
       "      <td>Brentwood</td>\n",
       "    </tr>\n",
       "    <tr>\n",
       "      <th>4</th>\n",
       "      <td>AVwc_6qRByjofQCxkcxw</td>\n",
       "      <td>148 S Barrington Ave</td>\n",
       "      <td>American Restaurant,Bar,Bakery</td>\n",
       "      <td>Los Angeles</td>\n",
       "      <td>US</td>\n",
       "      <td>us/brentwood/losangeles/148sbarringtonave/-151...</td>\n",
       "      <td>34.064563</td>\n",
       "      <td>-118.469017</td>\n",
       "      <td>NaN</td>\n",
       "      <td>13.00</td>\n",
       "      <td>...</td>\n",
       "      <td>USD</td>\n",
       "      <td>2015-10-23T03:57:26Z</td>\n",
       "      <td>Olives, onions, capers, tomatoes</td>\n",
       "      <td>Pizza, Puttenesca</td>\n",
       "      <td>The Brentwood</td>\n",
       "      <td>90049</td>\n",
       "      <td>USD</td>\n",
       "      <td>50.0</td>\n",
       "      <td>55.0</td>\n",
       "      <td>Brentwood</td>\n",
       "    </tr>\n",
       "  </tbody>\n",
       "</table>\n",
       "<p>5 rows × 21 columns</p>\n",
       "</div>"
      ],
      "text/plain": [
       "                     id                                  address  \\\n",
       "0  AVwc_6KEIN2L1WUfrKAH  Cascade Village Mall Across From Target   \n",
       "1  AVwc_6KEIN2L1WUfrKAH  Cascade Village Mall Across From Target   \n",
       "2  AVwc_6qRByjofQCxkcxw                     148 S Barrington Ave   \n",
       "3  AVwc_6qRByjofQCxkcxw                     148 S Barrington Ave   \n",
       "4  AVwc_6qRByjofQCxkcxw                     148 S Barrington Ave   \n",
       "\n",
       "                       categories         city country  \\\n",
       "0                     Pizza Place         Bend      US   \n",
       "1                     Pizza Place         Bend      US   \n",
       "2  American Restaurant,Bar,Bakery  Los Angeles      US   \n",
       "3  American Restaurant,Bar,Bakery  Los Angeles      US   \n",
       "4  American Restaurant,Bar,Bakery  Los Angeles      US   \n",
       "\n",
       "                                                keys   latitude   longitude  \\\n",
       "0  us/or/bend/cascadevillagemallacrossfromtarget/...  44.102665 -121.300797   \n",
       "1  us/or/bend/cascadevillagemallacrossfromtarget/...  44.102665 -121.300797   \n",
       "2  us/brentwood/losangeles/148sbarringtonave/-151...  34.064563 -118.469017   \n",
       "3  us/brentwood/losangeles/148sbarringtonave/-151...  34.064563 -118.469017   \n",
       "4  us/brentwood/losangeles/148sbarringtonave/-151...  34.064563 -118.469017   \n",
       "\n",
       "  menuPageURL  menus.amountMax  ...  menus.currency        menus.dateSeen  \\\n",
       "0         NaN            22.50  ...             USD  2016-03-31T02:19:42Z   \n",
       "1         NaN            18.95  ...             USD  2016-03-31T02:19:42Z   \n",
       "2         NaN            12.00  ...             USD  2015-10-23T03:57:26Z   \n",
       "3         NaN            13.00  ...             USD  2015-10-23T03:57:26Z   \n",
       "4         NaN            13.00  ...             USD  2015-10-23T03:57:26Z   \n",
       "\n",
       "                  menus.description         menus.name                   name  \\\n",
       "0                               NaN       Bianca Pizza  Little Pizza Paradise   \n",
       "1                               NaN       Cheese Pizza  Little Pizza Paradise   \n",
       "2                               NaN  Pizza, Margherita          The Brentwood   \n",
       "3                               NaN    Pizza, Mushroom          The Brentwood   \n",
       "4  Olives, onions, capers, tomatoes  Pizza, Puttenesca          The Brentwood   \n",
       "\n",
       "  postalCode priceRangeCurrency priceRangeMin  priceRangeMax   province  \n",
       "0      97701                NaN           NaN            NaN         OR  \n",
       "1      97701                NaN           NaN            NaN         OR  \n",
       "2      90049                USD          50.0           55.0  Brentwood  \n",
       "3      90049                USD          50.0           55.0  Brentwood  \n",
       "4      90049                USD          50.0           55.0  Brentwood  \n",
       "\n",
       "[5 rows x 21 columns]"
      ]
     },
     "execution_count": 21,
     "metadata": {},
     "output_type": "execute_result"
    }
   ],
   "source": [
    "data_2015_16.head()"
   ]
  },
  {
   "cell_type": "code",
   "execution_count": 22,
   "metadata": {},
   "outputs": [
    {
     "data": {
      "text/html": [
       "<div>\n",
       "<style scoped>\n",
       "    .dataframe tbody tr th:only-of-type {\n",
       "        vertical-align: middle;\n",
       "    }\n",
       "\n",
       "    .dataframe tbody tr th {\n",
       "        vertical-align: top;\n",
       "    }\n",
       "\n",
       "    .dataframe thead th {\n",
       "        text-align: right;\n",
       "    }\n",
       "</style>\n",
       "<table border=\"1\" class=\"dataframe\">\n",
       "  <thead>\n",
       "    <tr style=\"text-align: right;\">\n",
       "      <th></th>\n",
       "      <th>id</th>\n",
       "      <th>dateAdded</th>\n",
       "      <th>dateUpdated</th>\n",
       "      <th>address</th>\n",
       "      <th>categories</th>\n",
       "      <th>primaryCategories</th>\n",
       "      <th>city</th>\n",
       "      <th>country</th>\n",
       "      <th>keys</th>\n",
       "      <th>latitude</th>\n",
       "      <th>...</th>\n",
       "      <th>menus.currency</th>\n",
       "      <th>menus.dateSeen</th>\n",
       "      <th>menus.description</th>\n",
       "      <th>menus.name</th>\n",
       "      <th>name</th>\n",
       "      <th>postalCode</th>\n",
       "      <th>priceRangeCurrency</th>\n",
       "      <th>priceRangeMin</th>\n",
       "      <th>priceRangeMax</th>\n",
       "      <th>province</th>\n",
       "    </tr>\n",
       "  </thead>\n",
       "  <tbody>\n",
       "    <tr>\n",
       "      <th>0</th>\n",
       "      <td>AVz3Y-7h3D1zeR_xDAqm</td>\n",
       "      <td>2017-06-30T05:05:40Z</td>\n",
       "      <td>2019-05-01T15:43:09Z</td>\n",
       "      <td>4203 E Kiehl Ave</td>\n",
       "      <td>Pizza,Restaurant,American restaurants,Pizza Pl...</td>\n",
       "      <td>Accommodation &amp; Food Services</td>\n",
       "      <td>Sherwood</td>\n",
       "      <td>US</td>\n",
       "      <td>us/ar/sherwood/4203ekiehlave/-1051391616</td>\n",
       "      <td>34.832300</td>\n",
       "      <td>...</td>\n",
       "      <td>USD</td>\n",
       "      <td>2018-05-01T04:25:37.197Z,2018-04-16T04:36:02.3...</td>\n",
       "      <td>NaN</td>\n",
       "      <td>Cheese Pizza</td>\n",
       "      <td>Shotgun Dans Pizza</td>\n",
       "      <td>72120</td>\n",
       "      <td>USD</td>\n",
       "      <td>0</td>\n",
       "      <td>25</td>\n",
       "      <td>AR</td>\n",
       "    </tr>\n",
       "    <tr>\n",
       "      <th>1</th>\n",
       "      <td>AVweGPFF_7pvs4fzAAzQ</td>\n",
       "      <td>2016-04-02T04:02:49Z</td>\n",
       "      <td>2019-05-01T15:27:50Z</td>\n",
       "      <td>25 E Camelback Rd</td>\n",
       "      <td>Pizza,Pizza Place,Restaurants</td>\n",
       "      <td>Accommodation &amp; Food Services</td>\n",
       "      <td>Phoenix</td>\n",
       "      <td>US</td>\n",
       "      <td>us/az/phoenix/25ecamelbackrd/-727422936</td>\n",
       "      <td>33.509266</td>\n",
       "      <td>...</td>\n",
       "      <td>USD</td>\n",
       "      <td>2018-03-03T02:38:06.381Z,2018-01-18T20:18:10.0...</td>\n",
       "      <td>NaN</td>\n",
       "      <td>Pizza Cookie</td>\n",
       "      <td>Sauce Pizza Wine</td>\n",
       "      <td>85012</td>\n",
       "      <td>USD</td>\n",
       "      <td>0</td>\n",
       "      <td>25</td>\n",
       "      <td>AZ</td>\n",
       "    </tr>\n",
       "    <tr>\n",
       "      <th>2</th>\n",
       "      <td>AVwdRGa9_7pvs4fz4E3K</td>\n",
       "      <td>2016-03-03T18:39:49Z</td>\n",
       "      <td>2019-05-01T12:52:25Z</td>\n",
       "      <td>3703 Paxton Ave</td>\n",
       "      <td>Restaurant,Pizza Place,Restaurants</td>\n",
       "      <td>Accommodation &amp; Food Services</td>\n",
       "      <td>Cincinnati</td>\n",
       "      <td>US</td>\n",
       "      <td>us/oh/cincinnati/3703paxtonave/-619797122</td>\n",
       "      <td>39.144883</td>\n",
       "      <td>...</td>\n",
       "      <td>USD</td>\n",
       "      <td>2018-04-10T07:58:34.585Z,2018-04-21T05:43:21.4...</td>\n",
       "      <td>a saucelessampcomma double cheese pizza with a...</td>\n",
       "      <td>Pizza Blanca</td>\n",
       "      <td>Mios Pizzeria</td>\n",
       "      <td>45209</td>\n",
       "      <td>USD</td>\n",
       "      <td>0</td>\n",
       "      <td>25</td>\n",
       "      <td>OH</td>\n",
       "    </tr>\n",
       "    <tr>\n",
       "      <th>3</th>\n",
       "      <td>AVwdX4psIN2L1WUfvJB1</td>\n",
       "      <td>2016-03-29T05:08:59Z</td>\n",
       "      <td>2019-05-01T12:52:20Z</td>\n",
       "      <td>30495 John R Rd</td>\n",
       "      <td>Pizza,Carry-out food,Pizza Place,Restaurants</td>\n",
       "      <td>Accommodation &amp; Food Services</td>\n",
       "      <td>Madison Heights</td>\n",
       "      <td>US</td>\n",
       "      <td>us/mi/madisonheights/30495johnrrd/-874863116</td>\n",
       "      <td>42.516669</td>\n",
       "      <td>...</td>\n",
       "      <td>USD</td>\n",
       "      <td>2016-10-20T21:50:02Z,2016-03-29T05:08:59Z</td>\n",
       "      <td>NaN</td>\n",
       "      <td>Small Pizza</td>\n",
       "      <td>Hungry Howies Pizza</td>\n",
       "      <td>48071</td>\n",
       "      <td>USD</td>\n",
       "      <td>25</td>\n",
       "      <td>40</td>\n",
       "      <td>MI</td>\n",
       "    </tr>\n",
       "    <tr>\n",
       "      <th>4</th>\n",
       "      <td>AVwdaeTtkufWRAb55pSH</td>\n",
       "      <td>2016-03-31T02:34:04Z</td>\n",
       "      <td>2019-05-01T12:50:45Z</td>\n",
       "      <td>3600 Eastern Ave</td>\n",
       "      <td>Pizza,American restaurants,Pizza Place,Pizza e...</td>\n",
       "      <td>Accommodation &amp; Food Services</td>\n",
       "      <td>Baltimore</td>\n",
       "      <td>US</td>\n",
       "      <td>us/md/baltimore/3600easternave/-1270965359</td>\n",
       "      <td>39.286630</td>\n",
       "      <td>...</td>\n",
       "      <td>USD</td>\n",
       "      <td>2016-03-31T02:34:04Z</td>\n",
       "      <td>NaN</td>\n",
       "      <td>Pizza Sub</td>\n",
       "      <td>Spartan Pizzeria</td>\n",
       "      <td>21224</td>\n",
       "      <td>USD</td>\n",
       "      <td>0</td>\n",
       "      <td>25</td>\n",
       "      <td>MD</td>\n",
       "    </tr>\n",
       "  </tbody>\n",
       "</table>\n",
       "<p>5 rows × 24 columns</p>\n",
       "</div>"
      ],
      "text/plain": [
       "                     id             dateAdded           dateUpdated  \\\n",
       "0  AVz3Y-7h3D1zeR_xDAqm  2017-06-30T05:05:40Z  2019-05-01T15:43:09Z   \n",
       "1  AVweGPFF_7pvs4fzAAzQ  2016-04-02T04:02:49Z  2019-05-01T15:27:50Z   \n",
       "2  AVwdRGa9_7pvs4fz4E3K  2016-03-03T18:39:49Z  2019-05-01T12:52:25Z   \n",
       "3  AVwdX4psIN2L1WUfvJB1  2016-03-29T05:08:59Z  2019-05-01T12:52:20Z   \n",
       "4  AVwdaeTtkufWRAb55pSH  2016-03-31T02:34:04Z  2019-05-01T12:50:45Z   \n",
       "\n",
       "             address                                         categories  \\\n",
       "0   4203 E Kiehl Ave  Pizza,Restaurant,American restaurants,Pizza Pl...   \n",
       "1  25 E Camelback Rd                      Pizza,Pizza Place,Restaurants   \n",
       "2    3703 Paxton Ave                 Restaurant,Pizza Place,Restaurants   \n",
       "3    30495 John R Rd       Pizza,Carry-out food,Pizza Place,Restaurants   \n",
       "4   3600 Eastern Ave  Pizza,American restaurants,Pizza Place,Pizza e...   \n",
       "\n",
       "               primaryCategories             city country  \\\n",
       "0  Accommodation & Food Services         Sherwood      US   \n",
       "1  Accommodation & Food Services          Phoenix      US   \n",
       "2  Accommodation & Food Services       Cincinnati      US   \n",
       "3  Accommodation & Food Services  Madison Heights      US   \n",
       "4  Accommodation & Food Services        Baltimore      US   \n",
       "\n",
       "                                           keys   latitude  ...  \\\n",
       "0      us/ar/sherwood/4203ekiehlave/-1051391616  34.832300  ...   \n",
       "1       us/az/phoenix/25ecamelbackrd/-727422936  33.509266  ...   \n",
       "2     us/oh/cincinnati/3703paxtonave/-619797122  39.144883  ...   \n",
       "3  us/mi/madisonheights/30495johnrrd/-874863116  42.516669  ...   \n",
       "4    us/md/baltimore/3600easternave/-1270965359  39.286630  ...   \n",
       "\n",
       "   menus.currency                                     menus.dateSeen  \\\n",
       "0             USD  2018-05-01T04:25:37.197Z,2018-04-16T04:36:02.3...   \n",
       "1             USD  2018-03-03T02:38:06.381Z,2018-01-18T20:18:10.0...   \n",
       "2             USD  2018-04-10T07:58:34.585Z,2018-04-21T05:43:21.4...   \n",
       "3             USD          2016-10-20T21:50:02Z,2016-03-29T05:08:59Z   \n",
       "4             USD                               2016-03-31T02:34:04Z   \n",
       "\n",
       "                                   menus.description    menus.name  \\\n",
       "0                                                NaN  Cheese Pizza   \n",
       "1                                                NaN  Pizza Cookie   \n",
       "2  a saucelessampcomma double cheese pizza with a...  Pizza Blanca   \n",
       "3                                                NaN   Small Pizza   \n",
       "4                                                NaN     Pizza Sub   \n",
       "\n",
       "                  name postalCode priceRangeCurrency priceRangeMin  \\\n",
       "0   Shotgun Dans Pizza      72120                USD             0   \n",
       "1     Sauce Pizza Wine      85012                USD             0   \n",
       "2        Mios Pizzeria      45209                USD             0   \n",
       "3  Hungry Howies Pizza      48071                USD            25   \n",
       "4     Spartan Pizzeria      21224                USD             0   \n",
       "\n",
       "  priceRangeMax province  \n",
       "0            25       AR  \n",
       "1            25       AZ  \n",
       "2            25       OH  \n",
       "3            40       MI  \n",
       "4            25       MD  \n",
       "\n",
       "[5 rows x 24 columns]"
      ]
     },
     "execution_count": 22,
     "metadata": {},
     "output_type": "execute_result"
    }
   ],
   "source": [
    "data_2017_18.head()"
   ]
  },
  {
   "cell_type": "code",
   "execution_count": 23,
   "metadata": {},
   "outputs": [
    {
     "data": {
      "text/plain": [
       "(3510, 21)"
      ]
     },
     "execution_count": 23,
     "metadata": {},
     "output_type": "execute_result"
    }
   ],
   "source": [
    "data_2015_16.shape"
   ]
  },
  {
   "cell_type": "code",
   "execution_count": 24,
   "metadata": {},
   "outputs": [
    {
     "data": {
      "text/plain": [
       "(10000, 24)"
      ]
     },
     "execution_count": 24,
     "metadata": {},
     "output_type": "execute_result"
    }
   ],
   "source": [
    "data_2017_18.shape"
   ]
  },
  {
   "cell_type": "code",
   "execution_count": 105,
   "metadata": {},
   "outputs": [
    {
     "data": {
      "text/plain": [
       "Index(['id', 'address', 'categories', 'city', 'country', 'keys', 'latitude',\n",
       "       'longitude', 'menuPageURL', 'menus.amountMax', 'menus.amountMin',\n",
       "       'menus.currency', 'menus.dateSeen', 'menus.description', 'menus.name',\n",
       "       'name', 'postalCode', 'priceRangeCurrency', 'priceRangeMin',\n",
       "       'priceRangeMax', 'province'],\n",
       "      dtype='object')"
      ]
     },
     "execution_count": 105,
     "metadata": {},
     "output_type": "execute_result"
    }
   ],
   "source": [
    "data_2015_16.keys()"
   ]
  },
  {
   "cell_type": "code",
   "execution_count": 106,
   "metadata": {},
   "outputs": [
    {
     "data": {
      "text/plain": [
       "Index(['id', 'dateAdded', 'dateUpdated', 'address', 'categories',\n",
       "       'primaryCategories', 'city', 'country', 'keys', 'latitude', 'longitude',\n",
       "       'menus.amountMax', 'menus.amountMin', 'menus.currency',\n",
       "       'menus.dateSeen', 'menus.description', 'menus.name', 'name',\n",
       "       'postalCode', 'priceRangeCurrency', 'priceRangeMin', 'priceRangeMax',\n",
       "       'province', 'geometry'],\n",
       "      dtype='object')"
      ]
     },
     "execution_count": 106,
     "metadata": {},
     "output_type": "execute_result"
    }
   ],
   "source": [
    "data_2017_18.keys()"
   ]
  },
  {
   "cell_type": "code",
   "execution_count": 108,
   "metadata": {},
   "outputs": [],
   "source": [
    "count =0\n",
    "ids_ls =[]\n",
    "for ids in data_2015_16['id']:\n",
    "    for j in data_2017_18['id']:\n",
    "        if ids == j:\n",
    "            count+=1\n",
    "            ids_ls.append(ids)"
   ]
  },
  {
   "cell_type": "code",
   "execution_count": 112,
   "metadata": {},
   "outputs": [
    {
     "name": "stdout",
     "output_type": "stream",
     "text": [
      "621\n",
      "621\n"
     ]
    }
   ],
   "source": [
    "print(count)\n",
    "print(len(ids_ls))"
   ]
  },
  {
   "cell_type": "markdown",
   "metadata": {},
   "source": [
    "# Working on data_2017_18"
   ]
  },
  {
   "cell_type": "markdown",
   "metadata": {},
   "source": [
    "# checking duplicate ids "
   ]
  },
  {
   "cell_type": "code",
   "execution_count": 50,
   "metadata": {},
   "outputs": [],
   "source": [
    "dup_data_2017_18 = data_2017_18.drop_duplicates('id') \n",
    "dup_data_2015_16 = data_2015_16.drop_duplicates('id')"
   ]
  },
  {
   "cell_type": "code",
   "execution_count": 51,
   "metadata": {},
   "outputs": [
    {
     "data": {
      "text/plain": [
       "(2285, 24)"
      ]
     },
     "execution_count": 51,
     "metadata": {},
     "output_type": "execute_result"
    }
   ],
   "source": [
    "dup_data_2017_18.shape"
   ]
  },
  {
   "cell_type": "code",
   "execution_count": 52,
   "metadata": {},
   "outputs": [
    {
     "data": {
      "text/plain": [
       "(989, 21)"
      ]
     },
     "execution_count": 52,
     "metadata": {},
     "output_type": "execute_result"
    }
   ],
   "source": [
    "dup_data_2015_16.shape"
   ]
  },
  {
   "cell_type": "code",
   "execution_count": 53,
   "metadata": {},
   "outputs": [
    {
     "data": {
      "text/plain": [
       "Index(['id', 'dateAdded', 'dateUpdated', 'address', 'categories',\n",
       "       'primaryCategories', 'city', 'country', 'keys', 'latitude', 'longitude',\n",
       "       'menuPageURL', 'menus.amountMax', 'menus.amountMin', 'menus.currency',\n",
       "       'menus.dateSeen', 'menus.description', 'menus.name', 'name',\n",
       "       'postalCode', 'priceRangeCurrency', 'priceRangeMin', 'priceRangeMax',\n",
       "       'province'],\n",
       "      dtype='object')"
      ]
     },
     "execution_count": 53,
     "metadata": {},
     "output_type": "execute_result"
    }
   ],
   "source": [
    "data_2017_18.keys()"
   ]
  },
  {
   "cell_type": "code",
   "execution_count": 54,
   "metadata": {},
   "outputs": [
    {
     "data": {
      "text/html": [
       "<div>\n",
       "<style scoped>\n",
       "    .dataframe tbody tr th:only-of-type {\n",
       "        vertical-align: middle;\n",
       "    }\n",
       "\n",
       "    .dataframe tbody tr th {\n",
       "        vertical-align: top;\n",
       "    }\n",
       "\n",
       "    .dataframe thead th {\n",
       "        text-align: right;\n",
       "    }\n",
       "</style>\n",
       "<table border=\"1\" class=\"dataframe\">\n",
       "  <thead>\n",
       "    <tr style=\"text-align: right;\">\n",
       "      <th></th>\n",
       "      <th>id</th>\n",
       "      <th>dateAdded</th>\n",
       "      <th>dateUpdated</th>\n",
       "      <th>address</th>\n",
       "      <th>categories</th>\n",
       "      <th>primaryCategories</th>\n",
       "      <th>city</th>\n",
       "      <th>country</th>\n",
       "      <th>keys</th>\n",
       "      <th>latitude</th>\n",
       "      <th>...</th>\n",
       "      <th>menus.currency</th>\n",
       "      <th>menus.dateSeen</th>\n",
       "      <th>menus.description</th>\n",
       "      <th>menus.name</th>\n",
       "      <th>name</th>\n",
       "      <th>postalCode</th>\n",
       "      <th>priceRangeCurrency</th>\n",
       "      <th>priceRangeMin</th>\n",
       "      <th>priceRangeMax</th>\n",
       "      <th>province</th>\n",
       "    </tr>\n",
       "  </thead>\n",
       "  <tbody>\n",
       "    <tr>\n",
       "      <th>14</th>\n",
       "      <td>AVwc7s1wIN2L1WUfqehD</td>\n",
       "      <td>2015-10-21T17:51:11Z</td>\n",
       "      <td>2019-05-01T12:42:05Z</td>\n",
       "      <td>146 N Glendora Ave</td>\n",
       "      <td>Pizza,Restaurant,Pizza Place</td>\n",
       "      <td>Accommodation &amp; Food Services</td>\n",
       "      <td>Glendora</td>\n",
       "      <td>US</td>\n",
       "      <td>us/ca/glendora/146nglendoraave/-1511428239</td>\n",
       "      <td>34.137502</td>\n",
       "      <td>...</td>\n",
       "      <td>USD</td>\n",
       "      <td>2018-02-18T15:21:05.726Z,2018-02-27T05:14:30.5...</td>\n",
       "      <td>NaN</td>\n",
       "      <td>Three Cheese Pizza</td>\n",
       "      <td>Domenicos Jr</td>\n",
       "      <td>91741</td>\n",
       "      <td>USD</td>\n",
       "      <td>0</td>\n",
       "      <td>25</td>\n",
       "      <td>CA</td>\n",
       "    </tr>\n",
       "    <tr>\n",
       "      <th>15</th>\n",
       "      <td>AVwc7s1wIN2L1WUfqehD</td>\n",
       "      <td>2015-10-21T17:51:11Z</td>\n",
       "      <td>2019-05-01T12:42:05Z</td>\n",
       "      <td>146 N Glendora Ave</td>\n",
       "      <td>Pizza,Restaurant,Pizza Place</td>\n",
       "      <td>Accommodation &amp; Food Services</td>\n",
       "      <td>Glendora</td>\n",
       "      <td>US</td>\n",
       "      <td>us/ca/glendora/146nglendoraave/-1511428239</td>\n",
       "      <td>34.137502</td>\n",
       "      <td>...</td>\n",
       "      <td>USD</td>\n",
       "      <td>2018-05-11T22:26:10.666Z</td>\n",
       "      <td>Topped with mozzarellaampcomma feta and ricotta</td>\n",
       "      <td>Three Cheese Pizza</td>\n",
       "      <td>Domenicos Jr</td>\n",
       "      <td>91741</td>\n",
       "      <td>USD</td>\n",
       "      <td>0</td>\n",
       "      <td>25</td>\n",
       "      <td>CA</td>\n",
       "    </tr>\n",
       "    <tr>\n",
       "      <th>16</th>\n",
       "      <td>AVwc7s1wIN2L1WUfqehD</td>\n",
       "      <td>2015-10-21T17:51:11Z</td>\n",
       "      <td>2019-05-01T12:42:05Z</td>\n",
       "      <td>146 N Glendora Ave</td>\n",
       "      <td>Pizza,Restaurant,Pizza Place</td>\n",
       "      <td>Accommodation &amp; Food Services</td>\n",
       "      <td>Glendora</td>\n",
       "      <td>US</td>\n",
       "      <td>us/ca/glendora/146nglendoraave/-1511428239</td>\n",
       "      <td>34.137502</td>\n",
       "      <td>...</td>\n",
       "      <td>USD</td>\n",
       "      <td>2018-05-11T22:26:10.666Z</td>\n",
       "      <td>Includes 1 toppingampcomma additional toppings...</td>\n",
       "      <td>Pizza Sandwich</td>\n",
       "      <td>Domenicos Jr</td>\n",
       "      <td>91741</td>\n",
       "      <td>USD</td>\n",
       "      <td>0</td>\n",
       "      <td>25</td>\n",
       "      <td>CA</td>\n",
       "    </tr>\n",
       "  </tbody>\n",
       "</table>\n",
       "<p>3 rows × 24 columns</p>\n",
       "</div>"
      ],
      "text/plain": [
       "                      id             dateAdded           dateUpdated  \\\n",
       "14  AVwc7s1wIN2L1WUfqehD  2015-10-21T17:51:11Z  2019-05-01T12:42:05Z   \n",
       "15  AVwc7s1wIN2L1WUfqehD  2015-10-21T17:51:11Z  2019-05-01T12:42:05Z   \n",
       "16  AVwc7s1wIN2L1WUfqehD  2015-10-21T17:51:11Z  2019-05-01T12:42:05Z   \n",
       "\n",
       "               address                    categories  \\\n",
       "14  146 N Glendora Ave  Pizza,Restaurant,Pizza Place   \n",
       "15  146 N Glendora Ave  Pizza,Restaurant,Pizza Place   \n",
       "16  146 N Glendora Ave  Pizza,Restaurant,Pizza Place   \n",
       "\n",
       "                primaryCategories      city country  \\\n",
       "14  Accommodation & Food Services  Glendora      US   \n",
       "15  Accommodation & Food Services  Glendora      US   \n",
       "16  Accommodation & Food Services  Glendora      US   \n",
       "\n",
       "                                          keys   latitude  ...  \\\n",
       "14  us/ca/glendora/146nglendoraave/-1511428239  34.137502  ...   \n",
       "15  us/ca/glendora/146nglendoraave/-1511428239  34.137502  ...   \n",
       "16  us/ca/glendora/146nglendoraave/-1511428239  34.137502  ...   \n",
       "\n",
       "    menus.currency                                     menus.dateSeen  \\\n",
       "14             USD  2018-02-18T15:21:05.726Z,2018-02-27T05:14:30.5...   \n",
       "15             USD                           2018-05-11T22:26:10.666Z   \n",
       "16             USD                           2018-05-11T22:26:10.666Z   \n",
       "\n",
       "                                    menus.description          menus.name  \\\n",
       "14                                                NaN  Three Cheese Pizza   \n",
       "15    Topped with mozzarellaampcomma feta and ricotta  Three Cheese Pizza   \n",
       "16  Includes 1 toppingampcomma additional toppings...      Pizza Sandwich   \n",
       "\n",
       "            name postalCode priceRangeCurrency priceRangeMin priceRangeMax  \\\n",
       "14  Domenicos Jr      91741                USD             0            25   \n",
       "15  Domenicos Jr      91741                USD             0            25   \n",
       "16  Domenicos Jr      91741                USD             0            25   \n",
       "\n",
       "   province  \n",
       "14       CA  \n",
       "15       CA  \n",
       "16       CA  \n",
       "\n",
       "[3 rows x 24 columns]"
      ]
     },
     "execution_count": 54,
     "metadata": {},
     "output_type": "execute_result"
    }
   ],
   "source": [
    "data_2017_18.loc[data_2017_18['id']=='AVwc7s1wIN2L1WUfqehD']"
   ]
  },
  {
   "cell_type": "code",
   "execution_count": 55,
   "metadata": {},
   "outputs": [],
   "source": [
    "#data_2017_18['id']"
   ]
  },
  {
   "cell_type": "markdown",
   "metadata": {},
   "source": [
    "## here the data contains the duplicate ids but every id can be seen as a order and if you order more than 1 item from menu, then this id will be present that many times. "
   ]
  },
  {
   "cell_type": "markdown",
   "metadata": {},
   "source": [
    "# checking missing values in dataset"
   ]
  },
  {
   "cell_type": "code",
   "execution_count": 69,
   "metadata": {},
   "outputs": [
    {
     "name": "stdout",
     "output_type": "stream",
     "text": [
      "Percentage of absent data : \n",
      "id                       0\n",
      "dateAdded                0\n",
      "dateUpdated              0\n",
      "address                  0\n",
      "categories               0\n",
      "primaryCategories        0\n",
      "city                     0\n",
      "country                  0\n",
      "keys                     0\n",
      "latitude                 0\n",
      "longitude                0\n",
      "menuPageURL           8321\n",
      "menus.amountMax          0\n",
      "menus.amountMin          0\n",
      "menus.currency           0\n",
      "menus.dateSeen           0\n",
      "menus.description     6282\n",
      "menus.name               0\n",
      "name                     0\n",
      "postalCode               4\n",
      "priceRangeCurrency       0\n",
      "priceRangeMin            0\n",
      "priceRangeMax            0\n",
      "province                 0\n",
      "dtype: int64\n"
     ]
    }
   ],
   "source": [
    "print(\"Number of absent data : \\n{}\".format(data_2017_18.isnull().sum()))"
   ]
  },
  {
   "cell_type": "code",
   "execution_count": 71,
   "metadata": {},
   "outputs": [],
   "source": [
    "data_2017_18 = data_2017_18.drop(['menuPageURL'],axis=1)"
   ]
  },
  {
   "cell_type": "code",
   "execution_count": 72,
   "metadata": {},
   "outputs": [
    {
     "name": "stdout",
     "output_type": "stream",
     "text": [
      "Number of absent data : \n",
      "id                       0\n",
      "dateAdded                0\n",
      "dateUpdated              0\n",
      "address                  0\n",
      "categories               0\n",
      "primaryCategories        0\n",
      "city                     0\n",
      "country                  0\n",
      "keys                     0\n",
      "latitude                 0\n",
      "longitude                0\n",
      "menus.amountMax          0\n",
      "menus.amountMin          0\n",
      "menus.currency           0\n",
      "menus.dateSeen           0\n",
      "menus.description     6282\n",
      "menus.name               0\n",
      "name                     0\n",
      "postalCode               4\n",
      "priceRangeCurrency       0\n",
      "priceRangeMin            0\n",
      "priceRangeMax            0\n",
      "province                 0\n",
      "dtype: int64\n"
     ]
    }
   ],
   "source": [
    "print(\"Number of absent data : \\n{}\".format(data_2017_18.isnull().sum()))"
   ]
  },
  {
   "cell_type": "markdown",
   "metadata": {},
   "source": [
    "## plotting pizza locations in North America"
   ]
  },
  {
   "cell_type": "code",
   "execution_count": 78,
   "metadata": {},
   "outputs": [],
   "source": [
    "import geopandas\n",
    "from shapely.geometry import Point, LineString"
   ]
  },
  {
   "cell_type": "code",
   "execution_count": 81,
   "metadata": {},
   "outputs": [
    {
     "data": {
      "image/png": "[encoded data removed]",
      "text/plain": [
       "<Figure size 1152x1440 with 1 Axes>"
      ]
     },
     "metadata": {
      "needs_background": "light"
     },
     "output_type": "display_data"
    }
   ],
   "source": [
    "geometry = [Point(xy) for xy in zip(data_2017_18.longitude, data_2017_18.latitude)]\n",
    "\n",
    "gdf = geopandas.GeoDataFrame(data_2017_18, geometry=geometry)\n",
    "#print(gdf.head())\n",
    "world = geopandas.read_file(geopandas.datasets.get_path('naturalearth_lowres'))\n",
    "fig, ax = plt.subplots(figsize=(16, 20))\n",
    "world[world.continent == 'North America'].plot(\n",
    "    color='white', edgecolor='black', ax=ax)\n",
    "ax.set(title='Pizza Restaurant Location')\n",
    "ax.set_axis_off()\n",
    "\n",
    "gdf.plot(ax=ax, color='red')\n",
    "\n",
    "plt.show()"
   ]
  },
  {
   "cell_type": "markdown",
   "metadata": {},
   "source": [
    "## Which are the top 10 pizzas ?"
   ]
  },
  {
   "cell_type": "code",
   "execution_count": 99,
   "metadata": {},
   "outputs": [
    {
     "name": "stdout",
     "output_type": "stream",
     "text": [
      "Cheese Pizza             299\n",
      "White Pizza              225\n",
      "Hawaiian Pizza           149\n",
      "Buffalo Chicken Pizza    112\n",
      "Pizza                    111\n",
      "Margherita Pizza         104\n",
      "Veggie Pizza              95\n",
      "Bbq Chicken Pizza         81\n",
      "Greek Pizza               72\n",
      "Pizza Sub                 71\n",
      "Pizza Burger              70\n",
      "Taco Pizza                68\n",
      "Sicilian Pizza            66\n",
      "Pizza Steak               55\n",
      "Pizza Bread               54\n",
      "Name: menus.name, dtype: int64\n"
     ]
    }
   ],
   "source": [
    "pizza_menu = data_2017_18['menus.name'].value_counts()\n",
    "print(pizza_menu[:15])"
   ]
  },
  {
   "cell_type": "code",
   "execution_count": 100,
   "metadata": {},
   "outputs": [
    {
     "data": {
      "text/plain": [
       "<matplotlib.axes._subplots.AxesSubplot at 0x7f1df43685c0>"
      ]
     },
     "execution_count": 100,
     "metadata": {},
     "output_type": "execute_result"
    },
    {
     "data": {
      "image/png": "[encoded data removed]",
      "text/plain": [
       "<Figure size 432x288 with 1 Axes>"
      ]
     },
     "metadata": {
      "needs_background": "light"
     },
     "output_type": "display_data"
    }
   ],
   "source": [
    "## top 10 pizza's\n",
    "pizza_menu[:10].plot.bar()"
   ]
  },
  {
   "cell_type": "code",
   "execution_count": 101,
   "metadata": {},
   "outputs": [
    {
     "name": "stdout",
     "output_type": "stream",
     "text": [
      "Different pizzas : 4749\n"
     ]
    }
   ],
   "source": [
    "### no. of different pizza\n",
    "diffPizza = data_2017_18['menus.name'].value_counts()\n",
    "print(\"Different pizzas : {}\".format(diffPizza.count()))"
   ]
  },
  {
   "cell_type": "markdown",
   "metadata": {},
   "source": [
    "## Which are the top 10 cities with the most pizza restaurant ?"
   ]
  },
  {
   "cell_type": "code",
   "execution_count": 102,
   "metadata": {},
   "outputs": [],
   "source": [
    "pizza_city = data_2017_18['city'].value_counts()"
   ]
  },
  {
   "cell_type": "code",
   "execution_count": 103,
   "metadata": {},
   "outputs": [
    {
     "name": "stdout",
     "output_type": "stream",
     "text": [
      "New York         655\n",
      "Brooklyn         460\n",
      "Los Angeles      193\n",
      "Buffalo          178\n",
      "Philadelphia     140\n",
      "Seattle          135\n",
      "Chicago          133\n",
      "Flushing         124\n",
      "San Francisco    110\n",
      "Bronx             88\n",
      "Springfield       85\n",
      "Charlotte         84\n",
      "Pittsburgh        74\n",
      "Mesa              73\n",
      "Austin            66\n",
      "Name: city, dtype: int64\n"
     ]
    }
   ],
   "source": [
    "print(pizza_city[:15])"
   ]
  },
  {
   "cell_type": "code",
   "execution_count": 104,
   "metadata": {},
   "outputs": [
    {
     "data": {
      "text/plain": [
       "<matplotlib.axes._subplots.AxesSubplot at 0x7f1df4376b70>"
      ]
     },
     "execution_count": 104,
     "metadata": {},
     "output_type": "execute_result"
    },
    {
     "data": {
      "image/png": "[encoded data removed]",
      "text/plain": [
       "<Figure size 432x288 with 1 Axes>"
      ]
     },
     "metadata": {
      "needs_background": "light"
     },
     "output_type": "display_data"
    }
   ],
   "source": [
    "pizza_city[:10].plot.bar()"
   ]
  },
  {
   "cell_type": "code",
   "execution_count": 95,
   "metadata": {},
   "outputs": [
    {
     "data": {
      "text/plain": [
       "<matplotlib.axes._subplots.AxesSubplot at 0x7f1df44912b0>"
      ]
     },
     "execution_count": 95,
     "metadata": {},
     "output_type": "execute_result"
    },
    {
     "data": {
      "image/png": "[encoded data removed]",
      "text/plain": [
       "<Figure size 576x576 with 2 Axes>"
      ]
     },
     "metadata": {
      "needs_background": "light"
     },
     "output_type": "display_data"
    }
   ],
   "source": [
    "## heatmap\n",
    "f,ax = plt.subplots(figsize=(8, 8))\n",
    "sns.heatmap(data_2017_18.corr(), annot=True, linewidths=.5, fmt= '.1f',ax=ax)"
   ]
  },
  {
   "cell_type": "code",
   "execution_count": null,
   "metadata": {},
   "outputs": [],
   "source": []
  }
 ],
 "metadata": {
  "kernelspec": {
   "display_name": "Python 3",
   "language": "python",
   "name": "python3"
  },
  "language_info": {
   "codemirror_mode": {
    "name": "ipython",
    "version": 3
   },
   "file_extension": ".py",
   "mimetype": "text/x-python",
   "name": "python",
   "nbconvert_exporter": "python",
   "pygments_lexer": "ipython3",
   "version": "3.7.3"
  }
 },
 "nbformat": 4,
 "nbformat_minor": 2
}
